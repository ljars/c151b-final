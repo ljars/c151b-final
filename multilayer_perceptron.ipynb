{
 "cells": [
  {
   "cell_type": "code",
   "execution_count": 4,
   "id": "03c2b4e4",
   "metadata": {},
   "outputs": [],
   "source": [
    "import numpy as np\n",
    "import pandas as pd\n",
    "import torch\n",
    "import torch.nn as nn\n",
    "import torch.optim as optim\n",
    "from torch.utils.data import DataLoader, TensorDataset\n",
    "from sklearn.model_selection import train_test_split\n",
    "import matplotlib.pyplot as plt"
   ]
  },
  {
   "cell_type": "code",
   "execution_count": 5,
   "id": "1327bcf2",
   "metadata": {},
   "outputs": [
    {
     "name": "stdout",
     "output_type": "stream",
     "text": [
      "cuda\n"
     ]
    }
   ],
   "source": [
    "device = torch.device(\"cuda\" if torch.cuda.is_available() else \"cpu\")\n",
    "print(device)"
   ]
  },
  {
   "cell_type": "code",
   "execution_count": 6,
   "id": "fb1485bd",
   "metadata": {},
   "outputs": [],
   "source": [
    "# I have a separate preprocessing.ipynb for preprocessing train.csv and test_public.csv\n",
    "data = pd.read_csv(\"preprocessed.csv\")\n",
    "publicdata = pd.read_csv(\"preprocessed_test_public.csv\")"
   ]
  },
  {
   "cell_type": "code",
   "execution_count": 7,
   "id": "6269d61c",
   "metadata": {},
   "outputs": [],
   "source": [
    "# https://pytorch.org/tutorials/beginner/basics/optimization_tutorial.html\n",
    "class MulPerceptron(nn.Module):\n",
    "    def __init__(self, input_size, hidden_size, dropout_rate=0.1):\n",
    "        super(MulPerceptron, self).__init__()\n",
    "        self.linear = nn.Linear(input_size, hidden_size)\n",
    "        self.relu = nn.ReLU()\n",
    "        self.dropout = nn.Dropout(dropout_rate)\n",
    "        self.linear2 = nn.Linear(hidden_size, hidden_size)\n",
    "        self.relu2 = nn.ReLU()\n",
    "        self.dropout2 = nn.Dropout(dropout_rate)\n",
    "        self.linear3 = nn.Linear(hidden_size, hidden_size)\n",
    "        self.relu3 = nn.ReLU()\n",
    "        self.dropout3 = nn.Dropout(dropout_rate)\n",
    "        self.output = nn.Linear(hidden_size, 1)\n",
    "\n",
    "    def forward(self, x):\n",
    "        x = self.linear(x)\n",
    "        x = self.relu(x)\n",
    "        x = self.dropout(x)\n",
    "        x = self.linear2(x)\n",
    "        x = self.relu2(x)\n",
    "        x = self.dropout2(x)\n",
    "        x = self.linear3(x)\n",
    "        x = self.relu3(x)\n",
    "        x = self.dropout3(x)\n",
    "\n",
    "        x = self.output(x)\n",
    "        return x\n",
    "\n",
    "losses = []\n",
    "val_losses = []\n",
    "\n",
    "def train_model(model, dataloader, val_dataloader, loss_fn, optimizer, \n",
    "                num_epochs=1000, resume_epoch=0):\n",
    "    global losses, val_losses\n",
    "    if resume_epoch == 0:\n",
    "        losses = [0] * num_epochs\n",
    "        val_losses = []\n",
    "        model.train()\n",
    "        model.to(device)\n",
    "        print(f\"going to run for {num_epochs} epochs, with {len(dataloader)} batches each\")\n",
    "    else:\n",
    "        losses += [0] * num_epochs\n",
    "    for epoch in range(resume_epoch, num_epochs+resume_epoch):\n",
    "        # https://pytorch.org/docs/stable/data.html\n",
    "        total_loss = 0\n",
    "        for batch, (X, y) in enumerate(dataloader):\n",
    "            \n",
    "            y_pred = model(X)\n",
    "            loss = loss_fn(y_pred, y)\n",
    "            total_loss += loss.item()\n",
    "        \n",
    "            loss.backward()\n",
    "            optimizer.step()\n",
    "            optimizer.zero_grad()\n",
    "            \n",
    "        avg_loss = total_loss / len(dataloader)\n",
    "        losses[epoch] = np.sqrt(avg_loss)\n",
    "        if (epoch + 1) % (max(num_epochs // 10, 1)) == 0:\n",
    "            print(f\"epoch {epoch+ 1} of {num_epochs}, RMSE: {np.sqrt(avg_loss):.4f}\")\n",
    "            val_loss = test_model(model, val_dataloader, loss_fn)\n",
    "            print(\"validation loss:\", val_loss)\n",
    "            val_losses.append(val_loss)\n",
    "\n",
    "        \n",
    "def convert_data(mydata, feature_cols, target_col, max_samples):\n",
    "    if max_samples < len(mydata):\n",
    "#         num_samples = min(max_samples, len(data))\n",
    "        _sampled = mydata.sample(n=max_samples)\n",
    "    else:\n",
    "        print(\"more...\")\n",
    "        _sampled = mydata\n",
    "    print(\"samples:\", len(_sampled))\n",
    "#     X = torch.tensor(data[feature_cols].values[:max_samples], dtype=torch.float32)\n",
    "    _X = torch.tensor(_sampled[feature_cols].values, dtype=torch.float32)\n",
    "    if target_col == None:\n",
    "        return _X, None\n",
    "    _y = torch.tensor(_sampled[target_col].values, dtype=torch.float32).unsqueeze(1)\n",
    "    return _X, _y\n",
    "\n",
    "def split_data(_X, _y, test_size=0.2, random_state=2):\n",
    "    X_TEMP, X_test, y_TEMP, y_test = train_test_split(_X, _y, test_size=test_size, random_state=random_state)\n",
    "    X_train, X_valid, y_train, y_valid = train_test_split(X_TEMP, y_TEMP, test_size=test_size/(1-test_size), random_state=random_state)\n",
    "    return X_train, y_train, X_test, y_test, X_valid, y_valid\n",
    "\n",
    "def test_model(model, dataloader, loss_fn):\n",
    "    model.to(device)\n",
    "    model.eval()\n",
    "\n",
    "    loss = 0\n",
    "    with torch.no_grad():\n",
    "        for X, y in dataloader:\n",
    "            y_pred = model(X)\n",
    "            loss += loss_fn(y_pred, y).item()\n",
    "\n",
    "    loss /= len(dataloader)\n",
    "    \n",
    "    model.train()\n",
    "    return np.sqrt(loss)\n",
    "#     print(f\"loss: {np.sqrt(loss):.4f}\")"
   ]
  },
  {
   "cell_type": "code",
   "execution_count": 8,
   "id": "a04729d7",
   "metadata": {},
   "outputs": [
    {
     "data": {
      "image/png": "[encoded data removed]",
      "text/plain": [
       "<Figure size 432x288 with 1 Axes>"
      ]
     },
     "metadata": {
      "needs_background": "light"
     },
     "output_type": "display_data"
    },
    {
     "data": {
      "image/png": "[encoded data removed]",
      "text/plain": [
       "<Figure size 432x288 with 1 Axes>"
      ]
     },
     "metadata": {
      "needs_background": "light"
     },
     "output_type": "display_data"
    }
   ],
   "source": [
    "# MORE RECENT DATA IS MORE RELEVANT\n",
    "data[\"temp_weight\"] = data[\"TIMESTAMP\"].rank() / len(data)\n",
    "data[\"temp_rand\"] = np.random.random(len(data)) - 0.1\n",
    "sampled = data[data[\"temp_rand\"] < data[\"temp_weight\"]]\n",
    "# sampled = data[data[\"TIMESTAMP\"] > data[\"TIMESTAMP\"].mean()]\n",
    "\n",
    "# MORE RECENT DATA IS MORE RELEVANT\n",
    "plt.hist(data['TIMESTAMP'], bins=30, edgecolor='black')\n",
    "plt.xlabel('timestamp')\n",
    "plt.ylabel('freq')\n",
    "plt.title('original distribution')\n",
    "plt.show()\n",
    "\n",
    "plt.hist(sampled['TIMESTAMP'], bins=30, edgecolor='black')\n",
    "plt.xlabel('timestamp')\n",
    "plt.ylabel('freq')\n",
    "plt.title('after adjusting')\n",
    "plt.show()"
   ]
  },
  {
   "cell_type": "code",
   "execution_count": 9,
   "id": "f12fb106",
   "metadata": {
    "scrolled": true
   },
   "outputs": [
    {
     "name": "stdout",
     "output_type": "stream",
     "text": [
      "samples: 70000\n",
      "torch.Size([42000, 8]) torch.Size([14000, 8]) torch.Size([14000, 8])\n"
     ]
    }
   ],
   "source": [
    "features = [\n",
    "#             \"MON\", \n",
    "#             \"DAY\", \n",
    "#     \"WK\",\n",
    "            \"HR\",\n",
    "#     \"YR\",\n",
    "            \"ORDERED_STAND\", \n",
    "#             \"ORDERED_CALL\",\n",
    "            \"ORDERED_TAXI_ID\",\n",
    "#             \"TYPE_A\", \n",
    "#     \"TYPE_B\", \n",
    "#     \"TYPE_C\",\n",
    "            \"ORDERED_WK\", \n",
    "    \"ORDERED_DAY\", \n",
    "    \"ORDERED_MON\",\n",
    "    \"DAY_B\",\n",
    "    \"DAY_C\",\n",
    "#             , \"START_LAT\"\n",
    "#             , \"START_LON\"\n",
    "           ]\n",
    "target = \"LEN\"\n",
    "X, y = convert_data(sampled, features, target, 70000)\n",
    "X_train, y_train, X_test, y_test, X_valid, y_valid = split_data(X, y, random_state=6)\n",
    "print(X_train.shape, X_test.shape, X_valid.shape)"
   ]
  },
  {
   "cell_type": "code",
   "execution_count": 10,
   "id": "eb62187b",
   "metadata": {},
   "outputs": [
    {
     "data": {
      "text/html": [
       "<div>\n",
       "<style scoped>\n",
       "    .dataframe tbody tr th:only-of-type {\n",
       "        vertical-align: middle;\n",
       "    }\n",
       "\n",
       "    .dataframe tbody tr th {\n",
       "        vertical-align: top;\n",
       "    }\n",
       "\n",
       "    .dataframe thead th {\n",
       "        text-align: right;\n",
       "    }\n",
       "</style>\n",
       "<table border=\"1\" class=\"dataframe\">\n",
       "  <thead>\n",
       "    <tr style=\"text-align: right;\">\n",
       "      <th></th>\n",
       "      <th>TRIP_ID</th>\n",
       "      <th>CALL_TYPE</th>\n",
       "      <th>ORIGIN_CALL</th>\n",
       "      <th>ORIGIN_STAND</th>\n",
       "      <th>TAXI_ID</th>\n",
       "      <th>TIMESTAMP</th>\n",
       "      <th>DAY_TYPE</th>\n",
       "      <th>MISSING_DATA</th>\n",
       "      <th>POLYLINE</th>\n",
       "      <th>LEN</th>\n",
       "      <th>...</th>\n",
       "      <th>ORDERED_DAY</th>\n",
       "      <th>ORDERED_MON</th>\n",
       "      <th>TYPE_A</th>\n",
       "      <th>TYPE_B</th>\n",
       "      <th>TYPE_C</th>\n",
       "      <th>START_LOC</th>\n",
       "      <th>START_LAT</th>\n",
       "      <th>START_LON</th>\n",
       "      <th>temp_weight</th>\n",
       "      <th>temp_rand</th>\n",
       "    </tr>\n",
       "  </thead>\n",
       "  <tbody>\n",
       "    <tr>\n",
       "      <th>21</th>\n",
       "      <td>1372637254620000657</td>\n",
       "      <td>A</td>\n",
       "      <td>39233.0</td>\n",
       "      <td>NaN</td>\n",
       "      <td>20000657</td>\n",
       "      <td>1372637254</td>\n",
       "      <td>A</td>\n",
       "      <td>False</td>\n",
       "      <td>[[-8.660646,41.168574],[-8.661087,41.167926],[...</td>\n",
       "      <td>630</td>\n",
       "      <td>...</td>\n",
       "      <td>-1.654067</td>\n",
       "      <td>-1.329628</td>\n",
       "      <td>1.920861</td>\n",
       "      <td>-0.957131</td>\n",
       "      <td>-0.668182</td>\n",
       "      <td>NaN</td>\n",
       "      <td>NaN</td>\n",
       "      <td>NaN</td>\n",
       "      <td>0.000009</td>\n",
       "      <td>-0.019943</td>\n",
       "    </tr>\n",
       "    <tr>\n",
       "      <th>24</th>\n",
       "      <td>1372637658620000596</td>\n",
       "      <td>A</td>\n",
       "      <td>22864.0</td>\n",
       "      <td>NaN</td>\n",
       "      <td>20000596</td>\n",
       "      <td>1372637658</td>\n",
       "      <td>A</td>\n",
       "      <td>False</td>\n",
       "      <td>[[-8.665686,41.170626],[-8.665677,41.170653],[...</td>\n",
       "      <td>375</td>\n",
       "      <td>...</td>\n",
       "      <td>-1.654067</td>\n",
       "      <td>-1.329628</td>\n",
       "      <td>1.920861</td>\n",
       "      <td>-0.957131</td>\n",
       "      <td>-0.668182</td>\n",
       "      <td>NaN</td>\n",
       "      <td>NaN</td>\n",
       "      <td>NaN</td>\n",
       "      <td>0.000016</td>\n",
       "      <td>-0.054427</td>\n",
       "    </tr>\n",
       "    <tr>\n",
       "      <th>25</th>\n",
       "      <td>1372639092620000233</td>\n",
       "      <td>C</td>\n",
       "      <td>NaN</td>\n",
       "      <td>NaN</td>\n",
       "      <td>20000233</td>\n",
       "      <td>1372639092</td>\n",
       "      <td>A</td>\n",
       "      <td>False</td>\n",
       "      <td>[[-8.632737,41.168295],[-8.6328,41.16825],[-8....</td>\n",
       "      <td>105</td>\n",
       "      <td>...</td>\n",
       "      <td>-1.654067</td>\n",
       "      <td>-1.329628</td>\n",
       "      <td>-0.520600</td>\n",
       "      <td>-0.957131</td>\n",
       "      <td>1.496598</td>\n",
       "      <td>NaN</td>\n",
       "      <td>NaN</td>\n",
       "      <td>NaN</td>\n",
       "      <td>0.000037</td>\n",
       "      <td>-0.018176</td>\n",
       "    </tr>\n",
       "    <tr>\n",
       "      <th>41</th>\n",
       "      <td>1372638793620000571</td>\n",
       "      <td>A</td>\n",
       "      <td>2002.0</td>\n",
       "      <td>NaN</td>\n",
       "      <td>20000571</td>\n",
       "      <td>1372638793</td>\n",
       "      <td>A</td>\n",
       "      <td>False</td>\n",
       "      <td>[[-8.574705,41.142717],[-8.574696,41.142726],[...</td>\n",
       "      <td>600</td>\n",
       "      <td>...</td>\n",
       "      <td>-1.654067</td>\n",
       "      <td>-1.329628</td>\n",
       "      <td>1.920861</td>\n",
       "      <td>-0.957131</td>\n",
       "      <td>-0.668182</td>\n",
       "      <td>NaN</td>\n",
       "      <td>NaN</td>\n",
       "      <td>NaN</td>\n",
       "      <td>0.000035</td>\n",
       "      <td>-0.069717</td>\n",
       "    </tr>\n",
       "    <tr>\n",
       "      <th>57</th>\n",
       "      <td>1372638451620000621</td>\n",
       "      <td>A</td>\n",
       "      <td>59594.0</td>\n",
       "      <td>NaN</td>\n",
       "      <td>20000621</td>\n",
       "      <td>1372638451</td>\n",
       "      <td>A</td>\n",
       "      <td>False</td>\n",
       "      <td>[[-8.602209,41.163372],[-8.601651,41.163759],[...</td>\n",
       "      <td>510</td>\n",
       "      <td>...</td>\n",
       "      <td>-1.654067</td>\n",
       "      <td>-1.329628</td>\n",
       "      <td>1.920861</td>\n",
       "      <td>-0.957131</td>\n",
       "      <td>-0.668182</td>\n",
       "      <td>NaN</td>\n",
       "      <td>NaN</td>\n",
       "      <td>NaN</td>\n",
       "      <td>0.000029</td>\n",
       "      <td>-0.065662</td>\n",
       "    </tr>\n",
       "  </tbody>\n",
       "</table>\n",
       "<p>5 rows × 32 columns</p>\n",
       "</div>"
      ],
      "text/plain": [
       "                TRIP_ID CALL_TYPE  ORIGIN_CALL  ORIGIN_STAND   TAXI_ID  \\\n",
       "21  1372637254620000657         A      39233.0           NaN  20000657   \n",
       "24  1372637658620000596         A      22864.0           NaN  20000596   \n",
       "25  1372639092620000233         C          NaN           NaN  20000233   \n",
       "41  1372638793620000571         A       2002.0           NaN  20000571   \n",
       "57  1372638451620000621         A      59594.0           NaN  20000621   \n",
       "\n",
       "     TIMESTAMP DAY_TYPE  MISSING_DATA  \\\n",
       "21  1372637254        A         False   \n",
       "24  1372637658        A         False   \n",
       "25  1372639092        A         False   \n",
       "41  1372638793        A         False   \n",
       "57  1372638451        A         False   \n",
       "\n",
       "                                             POLYLINE  LEN  ...  ORDERED_DAY  \\\n",
       "21  [[-8.660646,41.168574],[-8.661087,41.167926],[...  630  ...    -1.654067   \n",
       "24  [[-8.665686,41.170626],[-8.665677,41.170653],[...  375  ...    -1.654067   \n",
       "25  [[-8.632737,41.168295],[-8.6328,41.16825],[-8....  105  ...    -1.654067   \n",
       "41  [[-8.574705,41.142717],[-8.574696,41.142726],[...  600  ...    -1.654067   \n",
       "57  [[-8.602209,41.163372],[-8.601651,41.163759],[...  510  ...    -1.654067   \n",
       "\n",
       "    ORDERED_MON    TYPE_A    TYPE_B    TYPE_C  START_LOC  START_LAT  \\\n",
       "21    -1.329628  1.920861 -0.957131 -0.668182        NaN        NaN   \n",
       "24    -1.329628  1.920861 -0.957131 -0.668182        NaN        NaN   \n",
       "25    -1.329628 -0.520600 -0.957131  1.496598        NaN        NaN   \n",
       "41    -1.329628  1.920861 -0.957131 -0.668182        NaN        NaN   \n",
       "57    -1.329628  1.920861 -0.957131 -0.668182        NaN        NaN   \n",
       "\n",
       "    START_LON  temp_weight  temp_rand  \n",
       "21        NaN     0.000009  -0.019943  \n",
       "24        NaN     0.000016  -0.054427  \n",
       "25        NaN     0.000037  -0.018176  \n",
       "41        NaN     0.000035  -0.069717  \n",
       "57        NaN     0.000029  -0.065662  \n",
       "\n",
       "[5 rows x 32 columns]"
      ]
     },
     "execution_count": 10,
     "metadata": {},
     "output_type": "execute_result"
    }
   ],
   "source": [
    "# data = data.sort_values(\"TIMESTAMP\")\n",
    "sampled.head()"
   ]
  },
  {
   "cell_type": "code",
   "execution_count": null,
   "id": "be2294d9",
   "metadata": {},
   "outputs": [],
   "source": []
  },
  {
   "cell_type": "code",
   "execution_count": null,
   "id": "a3de1d30",
   "metadata": {},
   "outputs": [],
   "source": []
  },
  {
   "cell_type": "code",
   "execution_count": 11,
   "id": "a9dfd5a7",
   "metadata": {},
   "outputs": [],
   "source": [
    "# HYPERPARAMS\n",
    "# learning_rate = 1e-6\n",
    "# num_epochs = 10000\n",
    "# batch_size = 300\n",
    "# hidden_size = 500\n",
    "# dropout_rate = 0.1"
   ]
  },
  {
   "cell_type": "code",
   "execution_count": 12,
   "id": "6e82032b",
   "metadata": {},
   "outputs": [],
   "source": [
    "# train_dataset = TensorDataset(X_train.to(device), y_train.to(device))\n",
    "# test_dataset = TensorDataset(X_test.to(device), y_test.to(device))\n",
    "# val_dataset = TensorDataset(X_valid.to(device), y_valid.to(device))\n",
    "# train_loader = DataLoader(train_dataset, batch_size=batch_size,\n",
    "#                 shuffle=True)\n",
    "# test_loader = DataLoader(test_dataset, batch_size=batch_size,\n",
    "#                 shuffle=True)\n",
    "# val_loader = DataLoader(val_dataset, batch_size=batch_size,\n",
    "#                 shuffle=True)"
   ]
  },
  {
   "cell_type": "code",
   "execution_count": 13,
   "id": "115fd55e",
   "metadata": {},
   "outputs": [],
   "source": [
    "# input_size = X_train.shape[1]\n",
    "# model = MulPerceptron(input_size, hidden_size, dropout_rate=dropout_rate)\n",
    "# loss_fn = nn.MSELoss()\n",
    "# # https://pytorch.org/docs/stable/generated/torch.optim.SGD.html\n",
    "# optimizer = optim.SGD(model.parameters(), lr=learning_rate, momentum=0.1)"
   ]
  },
  {
   "cell_type": "code",
   "execution_count": 14,
   "id": "44f07089",
   "metadata": {
    "scrolled": true
   },
   "outputs": [],
   "source": [
    "# # TRAIN AND TEST\n",
    "\n",
    "\n",
    "# # train_model(model, X_train, y_train, num_epochs=num_epochs,\n",
    "# #             learning_rate=learning_rate, max_samples=100000)\n",
    "# train_model(model, train_loader, val_loader, loss_fn, optimizer, \n",
    "#             num_epochs=num_epochs)\n",
    "\n",
    "# print(\"test loss:\", test_model(model, test_loader, loss_fn))\n",
    "# # test_model(model, test_loader, loss_fn)\n",
    "# # test_model(model, X_test, y_test)"
   ]
  },
  {
   "cell_type": "code",
   "execution_count": 17,
   "id": "d51e0629",
   "metadata": {},
   "outputs": [],
   "source": [
    "def test_hyperparams(learning_rate = 1e-6, num_epochs = 10000, batch_size = 300, \n",
    "                     hidden_size = 500,dropout_rate = 0.1, momentum=0.1, resume_epoch=0, label=None):\n",
    "    global model\n",
    "    train_dataset = TensorDataset(X_train.to(device), y_train.to(device))\n",
    "    test_dataset = TensorDataset(X_test.to(device), y_test.to(device))\n",
    "    val_dataset = TensorDataset(X_valid.to(device), y_valid.to(device))\n",
    "    train_loader = DataLoader(train_dataset, batch_size=batch_size, shuffle=True)\n",
    "    test_loader = DataLoader(test_dataset, batch_size=batch_size, shuffle=True)\n",
    "    val_loader = DataLoader(val_dataset, batch_size=batch_size, shuffle=True)\n",
    "    input_size = X_train.shape[1]\n",
    "    if resume_epoch == 0:\n",
    "        model = MulPerceptron(input_size, hidden_size, dropout_rate=dropout_rate)\n",
    "    loss_fn = nn.MSELoss()\n",
    "    # https://pytorch.org/docs/stable/generated/torch.optim.SGD.html\n",
    "    optimizer = optim.SGD(model.parameters(), lr=learning_rate, momentum=momentum)\n",
    "    train_model(model, train_loader, val_loader, loss_fn, optimizer, num_epochs=num_epochs, resume_epoch=resume_epoch)\n",
    "    print(\"test loss:\", test_model(model, test_loader, loss_fn))\n",
    "    print(\"valtest loss:\", test_model(model, val_loader, loss_fn))\n",
    "    plt.plot(range(len(val_losses)), val_losses, label=label)\n",
    "    xaxis = np.arange(1, len(val_losses)+1) * ((num_epochs+resume_epoch) // 10)\n",
    "    plt.xticks(np.arange(len(val_losses)), xaxis)\n",
    "    plt.xlabel(\"epoch\")\n",
    "    plt.ylabel(\"RMSE\")\n",
    "    plt.title(\"val loss vs epoch\")\n",
    "    plt.legend()"
   ]
  },
  {
   "cell_type": "code",
   "execution_count": 18,
   "id": "b5d53745",
   "metadata": {
    "scrolled": true
   },
   "outputs": [
    {
     "name": "stdout",
     "output_type": "stream",
     "text": [
      "going to run for 20 epochs, with 420 batches each\n",
      "epoch 2 of 20, RMSE: 971.0291\n",
      "validation loss: 989.324310812327\n",
      "epoch 4 of 20, RMSE: 969.0610\n",
      "validation loss: 986.6375865697307\n",
      "epoch 6 of 20, RMSE: 934.1418\n",
      "validation loss: 895.0894500890479\n",
      "epoch 8 of 20, RMSE: 664.6566\n",
      "validation loss: 679.1523456029188\n",
      "epoch 10 of 20, RMSE: 656.9462\n",
      "validation loss: 676.1793170497036\n",
      "epoch 12 of 20, RMSE: 655.8059\n",
      "validation loss: 675.0406187762095\n",
      "epoch 14 of 20, RMSE: 655.5134\n",
      "validation loss: 674.4608370831687\n",
      "epoch 16 of 20, RMSE: 655.2837\n",
      "validation loss: 673.9762088368735\n",
      "epoch 18 of 20, RMSE: 653.6472\n",
      "validation loss: 673.7590482346972\n",
      "epoch 20 of 20, RMSE: 653.6617\n",
      "validation loss: 673.3827194325357\n",
      "test loss: 669.9979316832414\n",
      "valtest loss: 673.3827191424889\n"
     ]
    },
    {
     "data": {
      "image/png": "[encoded data removed]",
      "text/plain": [
       "<Figure size 432x288 with 1 Axes>"
      ]
     },
     "metadata": {
      "needs_background": "light"
     },
     "output_type": "display_data"
    }
   ],
   "source": [
    "test_hyperparams(1e-7, 20, 100, 500, 0.5, label=str(\"a\"))"
   ]
  },
  {
   "cell_type": "code",
   "execution_count": 19,
   "id": "84c3f788",
   "metadata": {},
   "outputs": [
    {
     "name": "stdout",
     "output_type": "stream",
     "text": [
      "506001\n"
     ]
    }
   ],
   "source": [
    "total_params = sum(p.numel() for p in model.parameters())\n",
    "print(total_params)"
   ]
  },
  {
   "cell_type": "code",
   "execution_count": null,
   "id": "4e47e339",
   "metadata": {},
   "outputs": [],
   "source": [
    "# https://pytorch.org/tutorials/beginner/saving_loading_models.html\n",
    "# SAVE MODEL\n",
    "torch.save(model.state_dict(), \"modelweights\")"
   ]
  },
  {
   "cell_type": "code",
   "execution_count": null,
   "id": "1c8eab4a",
   "metadata": {},
   "outputs": [],
   "source": [
    "# LOAD MODEL\n",
    "# def test_hyperparams(learning_rate = 1e-6, num_epochs = 10000, batch_size = 300, \n",
    "#                      hidden_size = 500,dropout_rate = 0.1, momentum=0.1, resume_epoch=0, label=None):\n",
    "model = MulPerceptron(len(features), 500, dropout_rate=0.5)\n",
    "model.load_state_dict(torch.load(\"modelweights\"))\n",
    "model.eval()"
   ]
  },
  {
   "cell_type": "code",
   "execution_count": null,
   "id": "568b71bb",
   "metadata": {
    "scrolled": false
   },
   "outputs": [],
   "source": [
    "# test_hyperparams(1e-8, 40, 100, 500, 0.5, resume_epoch=20, label=str(\"a\"))"
   ]
  },
  {
   "cell_type": "code",
   "execution_count": null,
   "id": "b81972bd",
   "metadata": {},
   "outputs": [],
   "source": []
  },
  {
   "cell_type": "code",
   "execution_count": null,
   "id": "f4f8438c",
   "metadata": {},
   "outputs": [],
   "source": []
  },
  {
   "cell_type": "code",
   "execution_count": null,
   "id": "7c045a2a",
   "metadata": {},
   "outputs": [],
   "source": [
    "#test_hyperparams(1e-9, 20, 50, 500, 0.5, resume_epoch=40, label=str(\"a\"))"
   ]
  },
  {
   "cell_type": "code",
   "execution_count": null,
   "id": "e2a8009b",
   "metadata": {},
   "outputs": [],
   "source": [
    "# test_hyperparams(1e-9, 200, 100, 500, 0.5, resume_epoch=label=str(\"a\"))"
   ]
  },
  {
   "cell_type": "code",
   "execution_count": null,
   "id": "b42e0102",
   "metadata": {
    "scrolled": true
   },
   "outputs": [],
   "source": [
    "# test_hyperparams(1e-8, 200, 100, 500, 0.5, resume_epoch=700, label=str(\"a\"))"
   ]
  },
  {
   "cell_type": "code",
   "execution_count": null,
   "id": "7b59e864",
   "metadata": {
    "scrolled": false
   },
   "outputs": [],
   "source": [
    "# test_hyperparams(1e-9, 200, 100, 500, 0.5, resume_epoch=700, label=str(\"a\"))"
   ]
  },
  {
   "cell_type": "code",
   "execution_count": null,
   "id": "f16cd385",
   "metadata": {},
   "outputs": [],
   "source": [
    "sampled.head()"
   ]
  },
  {
   "cell_type": "code",
   "execution_count": null,
   "id": "84cb2255",
   "metadata": {},
   "outputs": [],
   "source": [
    "len(losses)"
   ]
  },
  {
   "cell_type": "code",
   "execution_count": null,
   "id": "3f4352ea",
   "metadata": {
    "scrolled": true
   },
   "outputs": [],
   "source": [
    "# for lr in [1e-7, 1e-8]:\n",
    "#     test_hyperparams(lr, 400, 100, 500, 0.5, label=str(lr))\n",
    "# #     test_hyperparams(1e-6, 200, 300, 500, 0.5, label=str(\"a\"))\n",
    "# #     test_hyperparams(lr, 300, 200, 500, 0.1, label=str(lr))"
   ]
  },
  {
   "cell_type": "code",
   "execution_count": null,
   "id": "fe78c82c",
   "metadata": {},
   "outputs": [],
   "source": [
    "# for hidden_size in [50, 100, 200, 300, 500, 700, 1000]:\n",
    "#     test_hyperparams(1e-6, 400, 100, hidden_size, 0.5, label=str(hidden_size))\n",
    "# #     test_hyperparams(1e-5, 300, hidden_size, 500, 0.1, label=str(hidden_size))"
   ]
  },
  {
   "cell_type": "code",
   "execution_count": null,
   "id": "aad7c8b6",
   "metadata": {},
   "outputs": [],
   "source": [
    "# for batches in [10, 20, 40, 70, 100, 200, 300, 600]:\n",
    "#     test_hyperparams(1e-6, 400, batches, 500, 0.5, label=str(batches))\n",
    "#     #test_hyperparams(1e-5, batches, 300, 500, 0.1, label=str(batches))"
   ]
  },
  {
   "cell_type": "code",
   "execution_count": null,
   "id": "56f92f89",
   "metadata": {
    "scrolled": false
   },
   "outputs": [],
   "source": [
    "# for dropout in [0, 0.05, 0.1, 0.2, 0.3, 0.5, 0.7, 0.8]:\n",
    "#     test_hyperparams(1e-6, 400, 100, 500, dropout, label=str(dropout))\n",
    "# #     test_hyperparams(1e-5, 200, 300, 500, dropout, label=str(dropout))"
   ]
  },
  {
   "cell_type": "code",
   "execution_count": null,
   "id": "6871f1fe",
   "metadata": {},
   "outputs": [],
   "source": [
    "# test_hyperparams(1e-6, 400, 100, 500, 0.5, label=str(dropout))"
   ]
  },
  {
   "cell_type": "code",
   "execution_count": null,
   "id": "9f842a86",
   "metadata": {
    "scrolled": true
   },
   "outputs": [],
   "source": [
    "# Sample submission file that is given on kaggle\n",
    "# df_sample = pd.read_csv(\"sampleSubmission.csv\")\n",
    "\n",
    "# publicdata[\"TRAVEL_TIME\"] = 716.43\n",
    "X_public, y_public = convert_data(publicdata, features, None, 100000)\n",
    "publicdata.head()\n",
    "# mean(716.43) -> 792.73593\n",
    "# median(600) -> 784.74219\n",
    "# publicdata.to_csv(\"my_pred.csv\", index=None)"
   ]
  },
  {
   "cell_type": "code",
   "execution_count": null,
   "id": "dec4f1c9",
   "metadata": {},
   "outputs": [],
   "source": [
    "# print(len(y_public))\n",
    "print(len(X_public))\n",
    "print(len(publicdata))"
   ]
  },
  {
   "cell_type": "code",
   "execution_count": null,
   "id": "8a0fd8fd",
   "metadata": {},
   "outputs": [],
   "source": [
    "X_public = X_public.to(device)\n",
    "\n",
    "model.eval()\n",
    "\n",
    "with torch.no_grad():\n",
    "    y_public = model(X_public)\n",
    "\n",
    "y_public = y_public.cpu()\n",
    "publicdata[\"TRAVEL_TIME\"] = y_public\n",
    "df_submit = publicdata[[\"TRIP_ID\",\"TRAVEL_TIME\"]]\n",
    "\n",
    "df_submit.to_csv(\"my_pred.csv\", index=None)\n",
    "\n",
    "# print(y_public)"
   ]
  },
  {
   "cell_type": "code",
   "execution_count": null,
   "id": "73e81117",
   "metadata": {},
   "outputs": [],
   "source": [
    "# print(y_public)"
   ]
  },
  {
   "cell_type": "code",
   "execution_count": null,
   "id": "555ca78f",
   "metadata": {},
   "outputs": [],
   "source": [
    "# for feat in [\"ORDERED_STAND\", \"ORDERED_CALL\", \"ORDERED_TAXI_ID\"]:\n",
    "#     print(publicdata[feat].isnull().sum())\n",
    "\n",
    "# for i in range(len(publicdata)):\n",
    "#     if np.isnan(publicdata.loc[i, \"ORDERED_CALL\"]):\n",
    "#         print(publicdata.loc[i])\n",
    "#         print(\"---\")"
   ]
  }
 ],
 "metadata": {
  "kernelspec": {
   "display_name": "Python 3 (ipykernel)",
   "language": "python",
   "name": "python3"
  },
  "language_info": {
   "codemirror_mode": {
    "name": "ipython",
    "version": 3
   },
   "file_extension": ".py",
   "mimetype": "text/x-python",
   "name": "python",
   "nbconvert_exporter": "python",
   "pygments_lexer": "ipython3",
   "version": "3.9.5"
  }
 },
 "nbformat": 4,
 "nbformat_minor": 5
}
