{
 "cells": [
  {
   "cell_type": "code",
   "execution_count": 1,
   "id": "9f7be446",
   "metadata": {},
   "outputs": [],
   "source": [
    "# settings\n",
    "settings_remove_missing = True\n",
    "settings_output_filename = \"preprocessed.csv\"\n",
    "settings_output_filename_test = \"preprocessed_test_public.csv\""
   ]
  },
  {
   "cell_type": "code",
   "execution_count": 2,
   "id": "25bdf894",
   "metadata": {},
   "outputs": [],
   "source": [
    "import numpy as np\n",
    "import pandas as pd\n",
    "from datetime import datetime\n",
    "import pytz\n"
   ]
  },
  {
   "cell_type": "code",
   "execution_count": 3,
   "id": "2ca25d15",
   "metadata": {},
   "outputs": [],
   "source": [
    "df_tr = pd.read_csv(\"train.csv\")"
   ]
  },
  {
   "cell_type": "code",
   "execution_count": 4,
   "id": "c2eea415",
   "metadata": {},
   "outputs": [],
   "source": [
    "df_test_public = pd.read_csv(\"test_public.csv\")"
   ]
  },
  {
   "cell_type": "code",
   "execution_count": 5,
   "id": "1ffdcac5",
   "metadata": {},
   "outputs": [],
   "source": [
    "if settings_remove_missing:\n",
    "    df_tr = df_tr[~df_tr['MISSING_DATA']]\n",
    "    # also remove CALL_TYPE B data that is missing ORIGIN_STAND?"
   ]
  },
  {
   "cell_type": "code",
   "execution_count": 15,
   "id": "11085c74",
   "metadata": {},
   "outputs": [],
   "source": [
    "def polyline_to_trip_duration(polyline):\n",
    "  return max(polyline.count(\"[\") - 2, 0) * 15\n",
    "\n",
    "def parse_time(x):\n",
    "    zone = pytz.timezone(\"Europe/Lisbon\")\n",
    "    dt = datetime.fromtimestamp(x[\"TIMESTAMP\"], tz=zone)\n",
    "    return dt.year, dt.month, dt.day, dt.hour, dt.weekday()\n",
    "\n",
    "def parse_timestamp(x):\n",
    "    zone = pytz.timezone(\"Europe/Lisbon\")\n",
    "    dt = datetime.fromtimestamp(x, tz=zone)\n",
    "    return dt.year, dt.month, dt.day, dt.hour, dt.weekday()"
   ]
  },
  {
   "cell_type": "code",
   "execution_count": 7,
   "id": "2ca21b71",
   "metadata": {},
   "outputs": [],
   "source": [
    "# Add LEN column\n",
    "df_tr[\"LEN\"] = df_tr[\"POLYLINE\"].apply(polyline_to_trip_duration)"
   ]
  },
  {
   "cell_type": "code",
   "execution_count": 8,
   "id": "72c2d55d",
   "metadata": {},
   "outputs": [],
   "source": [
    "# Add datetime columns\n",
    "df_tr[[\"YR\", \"MON\", \"DAY\", \"HR\", \"WK\"]] = df_tr[[\"TIMESTAMP\"]].apply(parse_time, axis=1, result_type=\"expand\")\n",
    "df_test_public[[\"YR\", \"MON\", \"DAY\", \"HR\", \"WK\"]] = df_test_public[[\"TIMESTAMP\"]].apply(parse_time, axis=1, result_type=\"expand\")"
   ]
  },
  {
   "cell_type": "code",
   "execution_count": 18,
   "id": "463de73c",
   "metadata": {},
   "outputs": [],
   "source": [
    "def is_holiday(timestamp):\n",
    "    yr, mon, day, _hr, _wk = parse_timestamp(timestamp)\n",
    "#     print(f\"year {yr}, month {mon}, day {day}, hour {_hr}, week {_wk}\")\n",
    "    holidays = [\n",
    "        (2013, 1, 1),\n",
    "        (2014, 1, 1),\n",
    "        (2013, 2, 12),\n",
    "        (2014, 3, 4),\n",
    "        (2013, 3, 29),\n",
    "        (2014, 4, 18),\n",
    "        (2013, 3, 31),\n",
    "        (2014, 4, 20),\n",
    "        (2013, 4, 25),\n",
    "        (2014, 4, 25),\n",
    "        (2013, 5, 1),\n",
    "        (2014, 5, 1),\n",
    "        (2013, 6, 10),\n",
    "        (2014, 6, 10),\n",
    "        (2013, 8, 15),\n",
    "        (2014, 8, 15),\n",
    "        (2013, 10, 5),\n",
    "        (2014, 10, 5),\n",
    "        (2013, 11, 1),\n",
    "        (2014, 11, 1),\n",
    "        (2013, 12, 1),\n",
    "        (2014, 12, 1),\n",
    "        (2013, 12, 25),\n",
    "        (2014, 12, 25)\n",
    "    ]\n",
    "    if (yr, mon, day) in holidays:\n",
    "        return True\n",
    "    return False\n",
    "\n",
    "def is_holidays_eve(timestamp):\n",
    "    tomorrow = timestamp + (60 * 60 * 24)\n",
    "    return is_holiday(tomorrow)"
   ]
  },
  {
   "cell_type": "code",
   "execution_count": 19,
   "id": "af2548a4",
   "metadata": {},
   "outputs": [],
   "source": [
    "df_tr[\"DAY_B\"] = df_tr.apply(lambda row:\n",
    "        1 if is_holiday(row[\"TIMESTAMP\"]) else 0, axis=1)\n",
    "df_tr[\"DAY_C\"] = df_tr.apply(lambda row:\n",
    "        1 if is_holidays_eve(row[\"TIMESTAMP\"]) else 0, axis=1)"
   ]
  },
  {
   "cell_type": "code",
   "execution_count": 33,
   "id": "b949bbcf",
   "metadata": {},
   "outputs": [],
   "source": [
    "df_test_public[\"DAY_B\"] = df_test_public.apply(lambda row:\n",
    "        1 if is_holiday(row[\"TIMESTAMP\"]) else 0, axis=1)\n",
    "df_test_public[\"DAY_C\"] = df_test_public.apply(lambda row:\n",
    "        1 if is_holidays_eve(row[\"TIMESTAMP\"]) else 0, axis=1)"
   ]
  },
  {
   "cell_type": "code",
   "execution_count": 34,
   "id": "7ac8f617",
   "metadata": {
    "scrolled": true
   },
   "outputs": [
    {
     "name": "stdout",
     "output_type": "stream",
     "text": [
      "Index(['TRIP_ID', 'CALL_TYPE', 'ORIGIN_CALL', 'ORIGIN_STAND', 'TAXI_ID',\n",
      "       'TIMESTAMP', 'DAY_TYPE', 'MISSING_DATA', 'POLYLINE', 'LEN', 'YR', 'MON',\n",
      "       'DAY', 'HR', 'WK', 'DAY_B', 'DAY_C', 'ORDERED_STAND', 'ORDERED_CALL',\n",
      "       'ORDERED_TAXI_ID', 'NORM_TIMESTAMP', 'ORDERED_WK', 'ORDERED_DAY',\n",
      "       'ORDERED_MON', 'TYPE_A', 'TYPE_B', 'TYPE_C', 'START_LOC', 'START_LAT',\n",
      "       'START_LON'],\n",
      "      dtype='object')\n"
     ]
    }
   ],
   "source": [
    "print(df_tr.columns)"
   ]
  },
  {
   "cell_type": "code",
   "execution_count": 35,
   "id": "3242619a",
   "metadata": {},
   "outputs": [],
   "source": [
    "df_tr = df_tr.dropna(subset=[\"LEN\"])"
   ]
  },
  {
   "cell_type": "code",
   "execution_count": 36,
   "id": "290e4d8d",
   "metadata": {},
   "outputs": [],
   "source": [
    "def make_sorted_column(original_column, ordered_column):\n",
    "    values = df_tr[original_column].unique()\n",
    "    value_lens = [None] * len(values)\n",
    "\n",
    "    mean_value = 0\n",
    "    for i, value in enumerate(values):\n",
    "        mean_len = df_tr[df_tr[original_column] == value][\"LEN\"].mean()\n",
    "        if (np.isnan(value)):\n",
    "            mean_len = df_tr[np.isnan(df_tr[original_column])][\"LEN\"].mean()\n",
    "        value_lens[i] = [value, mean_len]\n",
    "        mean_value += mean_len\n",
    "\n",
    "    mean_value /= len(values)\n",
    "    sorted_lens = sorted(value_lens, key=lambda x: x[1])\n",
    "    \n",
    "    value_to_sorted = {}\n",
    "#     value_to_sorted[np.float64('nan')] = mean_value\n",
    "    for i, value in enumerate(sorted_lens):\n",
    "        value_to_sorted[value[0]] = i\n",
    "    \n",
    "#     public_values = df_test_public[original_column].unique()\n",
    "#     for value in public_values:\n",
    "#         print(value)\n",
    "    \n",
    "    df_tr[ordered_column] = df_tr[original_column].map(value_to_sorted)\n",
    "    df_test_public[ordered_column] = df_test_public[original_column].map(value_to_sorted)\n",
    "    \n",
    "    df_tr[ordered_column] = df_tr[ordered_column].fillna(mean_value)\n",
    "    df_test_public[ordered_column] = df_test_public[ordered_column].fillna(mean_value)\n"
   ]
  },
  {
   "cell_type": "code",
   "execution_count": 37,
   "id": "113bada8",
   "metadata": {},
   "outputs": [],
   "source": [
    "make_sorted_column(\"ORIGIN_STAND\", \"ORDERED_STAND\")"
   ]
  },
  {
   "cell_type": "code",
   "execution_count": 23,
   "id": "a7ccf978",
   "metadata": {},
   "outputs": [],
   "source": [
    "make_sorted_column(\"ORIGIN_CALL\", \"ORDERED_CALL\")"
   ]
  },
  {
   "cell_type": "code",
   "execution_count": 24,
   "id": "613d895a",
   "metadata": {},
   "outputs": [],
   "source": [
    "make_sorted_column(\"TAXI_ID\", \"ORDERED_TAXI_ID\")"
   ]
  },
  {
   "cell_type": "code",
   "execution_count": 25,
   "id": "a456c507",
   "metadata": {},
   "outputs": [],
   "source": [
    "df_tr[\"NORM_TIMESTAMP\"] = df_tr[\"TIMESTAMP\"]\n",
    "df_test_public[\"NORM_TIMESTAMP\"] = df_test_public[\"TIMESTAMP\"]"
   ]
  },
  {
   "cell_type": "code",
   "execution_count": 26,
   "id": "138de6fa",
   "metadata": {},
   "outputs": [],
   "source": [
    "make_sorted_column(\"WK\", \"ORDERED_WK\")\n",
    "make_sorted_column(\"DAY\", \"ORDERED_DAY\")\n",
    "make_sorted_column(\"MON\", \"ORDERED_MON\")"
   ]
  },
  {
   "cell_type": "code",
   "execution_count": 27,
   "id": "12419262",
   "metadata": {},
   "outputs": [],
   "source": [
    "def encode_call_type(df):\n",
    "    df['TYPE_A'] = np.where(df['CALL_TYPE'] == 'A', 1, 0)\n",
    "    df['TYPE_B'] = np.where(df['CALL_TYPE'] == 'B', 1, 0)\n",
    "    df['TYPE_C'] = np.where(df['CALL_TYPE'] == 'C', 1, 0)\n",
    "\n",
    "encode_call_type(df_tr)\n",
    "encode_call_type(df_test_public)"
   ]
  },
  {
   "cell_type": "code",
   "execution_count": 28,
   "id": "6e7b8fdb",
   "metadata": {},
   "outputs": [],
   "source": [
    "df_stand_loc = pd.read_csv(\"metaData_taxistandsID_name_GPSlocation.csv\")"
   ]
  },
  {
   "cell_type": "code",
   "execution_count": 29,
   "id": "d50b305b",
   "metadata": {},
   "outputs": [],
   "source": [
    "calls = df_stand_loc[\"ID\"].unique()\n",
    "\n",
    "call_lens = [None] * len(calls)\n",
    "\n",
    "call_id_to_loc = {}\n",
    "call_id_to_lat = {}\n",
    "call_id_to_lon = {}\n",
    "for i, call in enumerate(calls):\n",
    "    call_id_to_loc[call] = df_stand_loc.loc[i, \"Descricao\"]\n",
    "    call_id_to_lat[call] = df_stand_loc.loc[i, \"Latitude\"]\n",
    "    call_id_to_lon[call] = df_stand_loc.loc[i, \"Longitude\"]\n",
    "\n",
    "df_tr[\"START_LOC\"] = df_tr[\"ORIGIN_STAND\"].map(call_id_to_loc)\n",
    "df_tr[\"START_LAT\"] = df_tr[\"ORIGIN_STAND\"].map(call_id_to_lat)\n",
    "df_tr[\"START_LON\"] = df_tr[\"ORIGIN_STAND\"].map(call_id_to_lon)\n",
    "df_test_public[\"START_LOC\"] = df_test_public[\"ORIGIN_STAND\"].map(call_id_to_loc)\n",
    "df_test_public[\"START_LAT\"] = df_test_public[\"ORIGIN_STAND\"].map(call_id_to_lat)\n",
    "df_test_public[\"START_LON\"] = df_test_public[\"ORIGIN_STAND\"].map(call_id_to_lon)"
   ]
  },
  {
   "cell_type": "code",
   "execution_count": 30,
   "id": "a0e89793",
   "metadata": {
    "scrolled": true
   },
   "outputs": [
    {
     "data": {
      "text/html": [
       "<div>\n",
       "<style scoped>\n",
       "    .dataframe tbody tr th:only-of-type {\n",
       "        vertical-align: middle;\n",
       "    }\n",
       "\n",
       "    .dataframe tbody tr th {\n",
       "        vertical-align: top;\n",
       "    }\n",
       "\n",
       "    .dataframe thead th {\n",
       "        text-align: right;\n",
       "    }\n",
       "</style>\n",
       "<table border=\"1\" class=\"dataframe\">\n",
       "  <thead>\n",
       "    <tr style=\"text-align: right;\">\n",
       "      <th></th>\n",
       "      <th>TRIP_ID</th>\n",
       "      <th>CALL_TYPE</th>\n",
       "      <th>ORIGIN_CALL</th>\n",
       "      <th>ORIGIN_STAND</th>\n",
       "      <th>TAXI_ID</th>\n",
       "      <th>TIMESTAMP</th>\n",
       "      <th>DAY_TYPE</th>\n",
       "      <th>MISSING_DATA</th>\n",
       "      <th>POLYLINE</th>\n",
       "      <th>LEN</th>\n",
       "      <th>...</th>\n",
       "      <th>NORM_TIMESTAMP</th>\n",
       "      <th>ORDERED_WK</th>\n",
       "      <th>ORDERED_DAY</th>\n",
       "      <th>ORDERED_MON</th>\n",
       "      <th>TYPE_A</th>\n",
       "      <th>TYPE_B</th>\n",
       "      <th>TYPE_C</th>\n",
       "      <th>START_LOC</th>\n",
       "      <th>START_LAT</th>\n",
       "      <th>START_LON</th>\n",
       "    </tr>\n",
       "  </thead>\n",
       "  <tbody>\n",
       "    <tr>\n",
       "      <th>0</th>\n",
       "      <td>1372636858620000589</td>\n",
       "      <td>C</td>\n",
       "      <td>NaN</td>\n",
       "      <td>NaN</td>\n",
       "      <td>20000589</td>\n",
       "      <td>1372636858</td>\n",
       "      <td>A</td>\n",
       "      <td>False</td>\n",
       "      <td>[[-8.618643,41.141412],[-8.618499,41.141376],[...</td>\n",
       "      <td>330</td>\n",
       "      <td>...</td>\n",
       "      <td>1372636858</td>\n",
       "      <td>5</td>\n",
       "      <td>0</td>\n",
       "      <td>1</td>\n",
       "      <td>0</td>\n",
       "      <td>0</td>\n",
       "      <td>1</td>\n",
       "      <td>NaN</td>\n",
       "      <td>NaN</td>\n",
       "      <td>NaN</td>\n",
       "    </tr>\n",
       "    <tr>\n",
       "      <th>1</th>\n",
       "      <td>1372637303620000596</td>\n",
       "      <td>B</td>\n",
       "      <td>NaN</td>\n",
       "      <td>7.0</td>\n",
       "      <td>20000596</td>\n",
       "      <td>1372637303</td>\n",
       "      <td>A</td>\n",
       "      <td>False</td>\n",
       "      <td>[[-8.639847,41.159826],[-8.640351,41.159871],[...</td>\n",
       "      <td>270</td>\n",
       "      <td>...</td>\n",
       "      <td>1372637303</td>\n",
       "      <td>5</td>\n",
       "      <td>0</td>\n",
       "      <td>1</td>\n",
       "      <td>0</td>\n",
       "      <td>1</td>\n",
       "      <td>0</td>\n",
       "      <td>Av. Boavista</td>\n",
       "      <td>41.15998</td>\n",
       "      <td>-8.641984</td>\n",
       "    </tr>\n",
       "    <tr>\n",
       "      <th>2</th>\n",
       "      <td>1372636951620000320</td>\n",
       "      <td>C</td>\n",
       "      <td>NaN</td>\n",
       "      <td>NaN</td>\n",
       "      <td>20000320</td>\n",
       "      <td>1372636951</td>\n",
       "      <td>A</td>\n",
       "      <td>False</td>\n",
       "      <td>[[-8.612964,41.140359],[-8.613378,41.14035],[-...</td>\n",
       "      <td>960</td>\n",
       "      <td>...</td>\n",
       "      <td>1372636951</td>\n",
       "      <td>5</td>\n",
       "      <td>0</td>\n",
       "      <td>1</td>\n",
       "      <td>0</td>\n",
       "      <td>0</td>\n",
       "      <td>1</td>\n",
       "      <td>NaN</td>\n",
       "      <td>NaN</td>\n",
       "      <td>NaN</td>\n",
       "    </tr>\n",
       "    <tr>\n",
       "      <th>3</th>\n",
       "      <td>1372636854620000520</td>\n",
       "      <td>C</td>\n",
       "      <td>NaN</td>\n",
       "      <td>NaN</td>\n",
       "      <td>20000520</td>\n",
       "      <td>1372636854</td>\n",
       "      <td>A</td>\n",
       "      <td>False</td>\n",
       "      <td>[[-8.574678,41.151951],[-8.574705,41.151942],[...</td>\n",
       "      <td>630</td>\n",
       "      <td>...</td>\n",
       "      <td>1372636854</td>\n",
       "      <td>5</td>\n",
       "      <td>0</td>\n",
       "      <td>1</td>\n",
       "      <td>0</td>\n",
       "      <td>0</td>\n",
       "      <td>1</td>\n",
       "      <td>NaN</td>\n",
       "      <td>NaN</td>\n",
       "      <td>NaN</td>\n",
       "    </tr>\n",
       "    <tr>\n",
       "      <th>4</th>\n",
       "      <td>1372637091620000337</td>\n",
       "      <td>C</td>\n",
       "      <td>NaN</td>\n",
       "      <td>NaN</td>\n",
       "      <td>20000337</td>\n",
       "      <td>1372637091</td>\n",
       "      <td>A</td>\n",
       "      <td>False</td>\n",
       "      <td>[[-8.645994,41.18049],[-8.645949,41.180517],[-...</td>\n",
       "      <td>420</td>\n",
       "      <td>...</td>\n",
       "      <td>1372637091</td>\n",
       "      <td>5</td>\n",
       "      <td>0</td>\n",
       "      <td>1</td>\n",
       "      <td>0</td>\n",
       "      <td>0</td>\n",
       "      <td>1</td>\n",
       "      <td>NaN</td>\n",
       "      <td>NaN</td>\n",
       "      <td>NaN</td>\n",
       "    </tr>\n",
       "  </tbody>\n",
       "</table>\n",
       "<p>5 rows × 30 columns</p>\n",
       "</div>"
      ],
      "text/plain": [
       "               TRIP_ID CALL_TYPE  ORIGIN_CALL  ORIGIN_STAND   TAXI_ID  \\\n",
       "0  1372636858620000589         C          NaN           NaN  20000589   \n",
       "1  1372637303620000596         B          NaN           7.0  20000596   \n",
       "2  1372636951620000320         C          NaN           NaN  20000320   \n",
       "3  1372636854620000520         C          NaN           NaN  20000520   \n",
       "4  1372637091620000337         C          NaN           NaN  20000337   \n",
       "\n",
       "    TIMESTAMP DAY_TYPE  MISSING_DATA  \\\n",
       "0  1372636858        A         False   \n",
       "1  1372637303        A         False   \n",
       "2  1372636951        A         False   \n",
       "3  1372636854        A         False   \n",
       "4  1372637091        A         False   \n",
       "\n",
       "                                            POLYLINE  LEN  ...  \\\n",
       "0  [[-8.618643,41.141412],[-8.618499,41.141376],[...  330  ...   \n",
       "1  [[-8.639847,41.159826],[-8.640351,41.159871],[...  270  ...   \n",
       "2  [[-8.612964,41.140359],[-8.613378,41.14035],[-...  960  ...   \n",
       "3  [[-8.574678,41.151951],[-8.574705,41.151942],[...  630  ...   \n",
       "4  [[-8.645994,41.18049],[-8.645949,41.180517],[-...  420  ...   \n",
       "\n",
       "   NORM_TIMESTAMP  ORDERED_WK  ORDERED_DAY  ORDERED_MON  TYPE_A  TYPE_B  \\\n",
       "0      1372636858           5            0            1       0       0   \n",
       "1      1372637303           5            0            1       0       1   \n",
       "2      1372636951           5            0            1       0       0   \n",
       "3      1372636854           5            0            1       0       0   \n",
       "4      1372637091           5            0            1       0       0   \n",
       "\n",
       "   TYPE_C     START_LOC  START_LAT  START_LON  \n",
       "0       1           NaN        NaN        NaN  \n",
       "1       0  Av. Boavista   41.15998  -8.641984  \n",
       "2       1           NaN        NaN        NaN  \n",
       "3       1           NaN        NaN        NaN  \n",
       "4       1           NaN        NaN        NaN  \n",
       "\n",
       "[5 rows x 30 columns]"
      ]
     },
     "execution_count": 30,
     "metadata": {},
     "output_type": "execute_result"
    }
   ],
   "source": [
    "df_tr.head()"
   ]
  },
  {
   "cell_type": "code",
   "execution_count": 38,
   "id": "2587e5e3",
   "metadata": {},
   "outputs": [],
   "source": [
    "# normalization\n",
    "from sklearn.preprocessing import StandardScaler\n",
    "\n",
    "feature_cols = [\"MON\", \"DAY\", \"HR\", \"WK\", \"ORDERED_STAND\", \"ORDERED_CALL\", \"ORDERED_TAXI_ID\"\n",
    "            ,\"TYPE_A\", \"TYPE_B\", \"TYPE_C\",\n",
    "            \"ORDERED_WK\", \"ORDERED_DAY\", \"ORDERED_MON\", \"DAY_B\", \"DAY_C\", \"NORM_TIMESTAMP\",\n",
    "            \"START_LAT\", \"START_LON\"]\n",
    "\n",
    "scaler = StandardScaler()\n",
    "\n",
    "scaler.fit(df_tr[feature_cols])\n",
    "\n",
    "df_tr[feature_cols] = scaler.transform(df_tr[feature_cols])\n",
    "\n",
    "df_test_public[feature_cols] = scaler.transform(df_test_public[feature_cols])\n",
    "\n"
   ]
  },
  {
   "cell_type": "code",
   "execution_count": 39,
   "id": "d6c39a7e",
   "metadata": {},
   "outputs": [],
   "source": [
    "df_tr.to_csv(settings_output_filename, index=False)"
   ]
  },
  {
   "cell_type": "code",
   "execution_count": 40,
   "id": "a781028d",
   "metadata": {},
   "outputs": [],
   "source": [
    "df_test_public.to_csv(settings_output_filename_test, index=False)"
   ]
  },
  {
   "cell_type": "code",
   "execution_count": null,
   "id": "6b7e4bc4",
   "metadata": {},
   "outputs": [],
   "source": []
  },
  {
   "cell_type": "code",
   "execution_count": null,
   "id": "cdd028b5",
   "metadata": {},
   "outputs": [],
   "source": []
  }
 ],
 "metadata": {
  "kernelspec": {
   "display_name": "Python 3 (ipykernel)",
   "language": "python",
   "name": "python3"
  },
  "language_info": {
   "codemirror_mode": {
    "name": "ipython",
    "version": 3
   },
   "file_extension": ".py",
   "mimetype": "text/x-python",
   "name": "python",
   "nbconvert_exporter": "python",
   "pygments_lexer": "ipython3",
   "version": "3.9.5"
  }
 },
 "nbformat": 4,
 "nbformat_minor": 5
}
